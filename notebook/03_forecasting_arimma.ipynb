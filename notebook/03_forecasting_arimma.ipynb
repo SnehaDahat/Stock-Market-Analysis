{
 "cells": [
  {
   "cell_type": "markdown",
   "id": "7fb730e6",
   "metadata": {},
   "source": [
    "# Forecasting with ARIMA"
   ]
  },
  {
   "cell_type": "markdown",
   "id": "c13d016a",
   "metadata": {},
   "source": [
    "## Step 1: Load Cleaned and Differenced Data"
   ]
  },
  {
   "cell_type": "code",
   "execution_count": 1,
   "id": "97ab8ef0",
   "metadata": {},
   "outputs": [
    {
     "data": {
      "text/html": [
       "<div>\n",
       "<style scoped>\n",
       "    .dataframe tbody tr th:only-of-type {\n",
       "        vertical-align: middle;\n",
       "    }\n",
       "\n",
       "    .dataframe tbody tr th {\n",
       "        vertical-align: top;\n",
       "    }\n",
       "\n",
       "    .dataframe thead th {\n",
       "        text-align: right;\n",
       "    }\n",
       "</style>\n",
       "<table border=\"1\" class=\"dataframe\">\n",
       "  <thead>\n",
       "    <tr style=\"text-align: right;\">\n",
       "      <th></th>\n",
       "      <th>Close</th>\n",
       "      <th>High</th>\n",
       "      <th>Low</th>\n",
       "      <th>Open</th>\n",
       "      <th>Volume</th>\n",
       "      <th>Close_diff</th>\n",
       "    </tr>\n",
       "    <tr>\n",
       "      <th>Date</th>\n",
       "      <th></th>\n",
       "      <th></th>\n",
       "      <th></th>\n",
       "      <th></th>\n",
       "      <th></th>\n",
       "      <th></th>\n",
       "    </tr>\n",
       "  </thead>\n",
       "  <tbody>\n",
       "    <tr>\n",
       "      <th>2015-01-05</th>\n",
       "      <td>23.604336</td>\n",
       "      <td>24.137516414569966</td>\n",
       "      <td>23.417723496745833</td>\n",
       "      <td>24.057539235374563</td>\n",
       "      <td>257142000</td>\n",
       "      <td>-0.684244</td>\n",
       "    </tr>\n",
       "    <tr>\n",
       "      <th>2015-01-06</th>\n",
       "      <td>23.606550</td>\n",
       "      <td>23.866475117609923</td>\n",
       "      <td>23.244430968171436</td>\n",
       "      <td>23.668754292631863</td>\n",
       "      <td>263188400</td>\n",
       "      <td>0.002214</td>\n",
       "    </tr>\n",
       "    <tr>\n",
       "      <th>2015-01-07</th>\n",
       "      <td>23.937572</td>\n",
       "      <td>24.037543101651647</td>\n",
       "      <td>23.70430543372708</td>\n",
       "      <td>23.8153846563686</td>\n",
       "      <td>160423600</td>\n",
       "      <td>0.331022</td>\n",
       "    </tr>\n",
       "    <tr>\n",
       "      <th>2015-01-08</th>\n",
       "      <td>24.857307</td>\n",
       "      <td>24.915069102408545</td>\n",
       "      <td>24.148621476140704</td>\n",
       "      <td>24.26636687175016</td>\n",
       "      <td>237458000</td>\n",
       "      <td>0.919735</td>\n",
       "    </tr>\n",
       "    <tr>\n",
       "      <th>2015-01-09</th>\n",
       "      <td>24.883963</td>\n",
       "      <td>25.159438570127115</td>\n",
       "      <td>24.48407683690557</td>\n",
       "      <td>25.030586292520212</td>\n",
       "      <td>214798000</td>\n",
       "      <td>0.026655</td>\n",
       "    </tr>\n",
       "  </tbody>\n",
       "</table>\n",
       "</div>"
      ],
      "text/plain": [
       "                Close                High                 Low  \\\n",
       "Date                                                            \n",
       "2015-01-05  23.604336  24.137516414569966  23.417723496745833   \n",
       "2015-01-06  23.606550  23.866475117609923  23.244430968171436   \n",
       "2015-01-07  23.937572  24.037543101651647   23.70430543372708   \n",
       "2015-01-08  24.857307  24.915069102408545  24.148621476140704   \n",
       "2015-01-09  24.883963  25.159438570127115   24.48407683690557   \n",
       "\n",
       "                          Open     Volume  Close_diff  \n",
       "Date                                                   \n",
       "2015-01-05  24.057539235374563  257142000   -0.684244  \n",
       "2015-01-06  23.668754292631863  263188400    0.002214  \n",
       "2015-01-07    23.8153846563686  160423600    0.331022  \n",
       "2015-01-08   24.26636687175016  237458000    0.919735  \n",
       "2015-01-09  25.030586292520212  214798000    0.026655  "
      ]
     },
     "execution_count": 1,
     "metadata": {},
     "output_type": "execute_result"
    }
   ],
   "source": [
    "import pandas as pd\n",
    "\n",
    "# ✅ Load the new clean CSV\n",
    "data = pd.read_csv('../data/raw/AAPL_stock.csv')\n",
    "\n",
    "# ✅ Convert 'Date' column to datetime and set as index\n",
    "data['Date'] = pd.to_datetime(data['Date'])\n",
    "data.set_index('Date', inplace=True)\n",
    "\n",
    "# ✅ Convert 'Close' to float and difference\n",
    "data['Close'] = pd.to_numeric(data['Close'], errors='coerce')\n",
    "data['Close_diff'] = data['Close'].diff()\n",
    "\n",
    "# ✅ Drop missing rows from differencing\n",
    "data.dropna(inplace=True)\n",
    "\n",
    "# ✅ Preview\n",
    "data.head()\n",
    "\n"
   ]
  },
  {
   "cell_type": "markdown",
   "id": "e5973fac",
   "metadata": {},
   "source": [
    "## Step 2: Train-Test Split"
   ]
  },
  {
   "cell_type": "code",
   "execution_count": 2,
   "id": "9cd31137",
   "metadata": {},
   "outputs": [],
   "source": [
    "import pandas as pd\n",
    "\n",
    "# Prepare the dataset\n",
    "dataset = data['Close_diff']\n",
    "dataset.index = pd.to_datetime(dataset.index)      # ensure datetime index\n",
    "dataset = dataset.asfreq('D')                      # set daily frequency\n",
    "\n",
    "# Split into training and testing sets\n",
    "train = dataset[:-30]\n",
    "test = dataset[-30:]\n",
    "\n"
   ]
  },
  {
   "cell_type": "markdown",
   "id": "cd149cf0",
   "metadata": {},
   "source": [
    "## Step 3: Fit ARIMA Model"
   ]
  },
  {
   "cell_type": "code",
   "execution_count": 3,
   "id": "d5d26fdf",
   "metadata": {
    "scrolled": true
   },
   "outputs": [
    {
     "name": "stdout",
     "output_type": "stream",
     "text": [
      "RMSE: 1.6584939904270732\n"
     ]
    }
   ],
   "source": [
    "\n",
    "from statsmodels.tsa.arima.model import ARIMA\n",
    "from sklearn.metrics import mean_squared_error\n",
    "import numpy as np\n",
    "\n",
    "# Fit ARIMA model\n",
    "model = ARIMA(train, order=(1, 0, 1))\n",
    "model_fit = model.fit()\n",
    "\n",
    "# Forecast the next 30 days\n",
    "forecast = model_fit.forecast(steps=30)\n",
    "forecast = pd.Series(forecast, index=test.index)   # match index with test\n",
    "\n",
    "# Clean and align test & forecast to avoid NaN issues\n",
    "clean_test = test.dropna()\n",
    "clean_forecast = forecast.dropna()\n",
    "aligned_test, aligned_forecast = clean_test.align(clean_forecast, join='inner')\n",
    "\n",
    "# Calculate RMSE\n",
    "rmse = np.sqrt(mean_squared_error(aligned_test, aligned_forecast))\n",
    "print(\"RMSE:\", rmse)\n"
   ]
  },
  {
   "cell_type": "markdown",
   "id": "bc5922f8",
   "metadata": {},
   "source": [
    "## Step 4: Forecast Next 30 Days"
   ]
  },
  {
   "cell_type": "code",
   "execution_count": 4,
   "id": "544ba5e4",
   "metadata": {},
   "outputs": [
    {
     "name": "stdout",
     "output_type": "stream",
     "text": [
      "ARIMA RMSE: 1.6584939904270732\n",
      "Date\n",
      "2023-11-30    0.132936\n",
      "2023-12-01    0.092438\n",
      "2023-12-02    0.079441\n",
      "2023-12-03    0.075270\n",
      "2023-12-04    0.073931\n",
      "Freq: D, Name: predicted_mean, dtype: float64\n"
     ]
    }
   ],
   "source": [
    "import os\n",
    "import numpy as np\n",
    "import pandas as pd\n",
    "from sklearn.metrics import mean_squared_error\n",
    "\n",
    "# Forecast next 30 prices\n",
    "forecast = model_fit.forecast(steps=30)\n",
    "forecast = pd.Series(forecast, index=test[:30].index)  # Align indexes\n",
    "\n",
    "# Save forecast and actual values\n",
    "predicted_prices = forecast\n",
    "actual_prices = test[:30].copy()\n",
    "\n",
    "# Drop NaNs and align before saving and computing RMSE\n",
    "predicted_prices = predicted_prices.dropna()\n",
    "actual_prices = actual_prices.dropna()\n",
    "actual_prices, predicted_prices = actual_prices.align(predicted_prices, join='inner')\n",
    "\n",
    "# Save to .npy files\n",
    "os.makedirs(\"data/predictions\", exist_ok=True)\n",
    "np.save(\"data/predictions/arima_pred.npy\", predicted_prices)\n",
    "np.save(\"data/predictions/arima_actual.npy\", actual_prices)\n",
    "\n",
    "# Compute RMSE (compatible with all scikit-learn versions)\n",
    "mse = mean_squared_error(actual_prices, predicted_prices)\n",
    "rmse = np.sqrt(mse)\n",
    "print(\"ARIMA RMSE:\", rmse)\n",
    "\n",
    "# Show first few forecast values\n",
    "print(forecast.head())\n"
   ]
  },
  {
   "cell_type": "markdown",
   "id": "11b2529d",
   "metadata": {},
   "source": [
    "## Step 5: Plot Forecast vs Actual"
   ]
  },
  {
   "cell_type": "code",
   "execution_count": 5,
   "id": "92edc682",
   "metadata": {
    "scrolled": true
   },
   "outputs": [
    {
     "data": {
      "image/png": "[encoded data removed]",
      "text/plain": [
       "<Figure size 1200x600 with 1 Axes>"
      ]
     },
     "metadata": {},
     "output_type": "display_data"
    }
   ],
   "source": [
    "import matplotlib.pyplot as plt\n",
    "\n",
    "plt.figure(figsize=(12, 6))\n",
    "plt.plot(data['Close'][-100:], label='Actual')  # last 100 actual prices\n",
    "plt.plot(predicted_prices, label='Forecast', linestyle='--')\n",
    "plt.title(\"ARIMA Forecast vs Actual (Reconstructed Close Price)\")\n",
    "plt.xlabel(\"Date\")\n",
    "plt.ylabel(\"Close Price\")\n",
    "plt.legend()\n",
    "plt.grid(True)\n",
    "plt.show()\n"
   ]
  },
  {
   "cell_type": "markdown",
   "id": "ed495bec",
   "metadata": {},
   "source": [
    "## Step 6: Evaluate the Forecast"
   ]
  },
  {
   "cell_type": "code",
   "execution_count": 6,
   "id": "fcdb3897",
   "metadata": {},
   "outputs": [
    {
     "name": "stdout",
     "output_type": "stream",
     "text": [
      "RMSE: 1.6584939904270732\n"
     ]
    }
   ],
   "source": [
    "from sklearn.metrics import mean_squared_error\n",
    "import numpy as np\n",
    "\n",
    "# Drop NaN values and align the indexes\n",
    "test_clean = test.dropna()\n",
    "forecast_clean = forecast.dropna()\n",
    "\n",
    "# Align both series by index\n",
    "test_clean, forecast_clean = test_clean.align(forecast_clean, join='inner')\n",
    "\n",
    "# Compute RMSE\n",
    "rmse = np.sqrt(mean_squared_error(test_clean, forecast_clean))\n",
    "print(\"RMSE:\", rmse)\n"
   ]
  },
  {
   "cell_type": "code",
   "execution_count": 7,
   "id": "9a81b04a-6d4c-4170-9874-11a247a11fae",
   "metadata": {},
   "outputs": [],
   "source": [
    "import numpy as np\n",
    "import os\n",
    "\n",
    "# Create folder if not exists\n",
    "os.makedirs(\"data/predictions\", exist_ok=True)\n",
    "\n",
    "# Save ARIMA actual & predicted\n",
    "np.save(\"data/predictions/arima_pred.npy\", predicted_prices)\n",
    "np.save(\"data/predictions/arima_actual.npy\", actual_prices)\n"
   ]
  },
  {
   "cell_type": "code",
   "execution_count": 8,
   "id": "2ec818e0-3c45-4a58-9c3e-6a7ba5938bd4",
   "metadata": {},
   "outputs": [
    {
     "name": "stdout",
     "output_type": "stream",
     "text": [
      "ARIMA RMSE (actual): 4.325633898363987\n",
      "Files saved successfully!\n",
      "Date\n",
      "2023-11-30    186.776124\n",
      "2023-12-01    186.868562\n",
      "2023-12-02    186.948003\n",
      "2023-12-03    187.023272\n",
      "2023-12-04    187.097204\n",
      "Freq: D, Name: predicted_mean, dtype: float64\n"
     ]
    }
   ],
   "source": [
    "# Reconstruct actual prices from ARIMA forecast (if working with differenced data)\n",
    "last_price = data['Close'].iloc[-31]  # One step before test starts\n",
    "predicted_prices = forecast.cumsum() + last_price\n",
    "actual_prices = data['Close'][-30:]\n",
    "\n",
    "# Create the directory and save\n",
    "import os, numpy as np\n",
    "os.makedirs(\"../data/predictions\", exist_ok=True)\n",
    "\n",
    "np.save(\"../data/predictions/arima_pred.npy\", predicted_prices)\n",
    "np.save(\"../data/predictions/arima_actual.npy\", actual_prices)\n",
    "\n",
    "# Verify\n",
    "from sklearn.metrics import mean_squared_error\n",
    "rmse = np.sqrt(mean_squared_error(actual_prices, predicted_prices))\n",
    "print(\"ARIMA RMSE (actual):\", rmse)\n",
    "\n",
    "# Preview\n",
    "print(\"Files saved successfully!\")\n",
    "print(predicted_prices.head())\n",
    "\n"
   ]
  },
  {
   "cell_type": "markdown",
   "id": "6505f9f6",
   "metadata": {},
   "source": [
    "## ✅ Summary\n",
    "\n",
    "- ARIMA(1,0,1) model trained on differenced AAPL stock data\n",
    "- Forecasted next 30 days of price changes\n",
    "- RMSE (Root Mean Squared Error) = **1.658**\n",
    "- Forecast vs Actual plotted to visualize accuracy\n",
    "- Model uses real Yahoo Finance data, processed and split properly\n"
   ]
  },
  {
   "cell_type": "code",
   "execution_count": null,
   "id": "82a06ff2-9c71-4b02-a27f-a82c677ebc4a",
   "metadata": {},
   "outputs": [],
   "source": []
  }
 ],
 "metadata": {
  "kernelspec": {
   "display_name": "Python 3 (ipykernel)",
   "language": "python",
   "name": "python3"
  },
  "language_info": {
   "codemirror_mode": {
    "name": "ipython",
    "version": 3
   },
   "file_extension": ".py",
   "mimetype": "text/x-python",
   "name": "python",
   "nbconvert_exporter": "python",
   "pygments_lexer": "ipython3",
   "version": "3.11.9"
  }
 },
 "nbformat": 4,
 "nbformat_minor": 5
}
