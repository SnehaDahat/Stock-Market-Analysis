{
 "cells": [
  {
   "cell_type": "markdown",
   "id": "75fa1591",
   "metadata": {},
   "source": [
    "## 📘 What is a Time Series?\n",
    "A sequence of data points collected at regular intervals over time."
   ]
  },
  {
   "cell_type": "markdown",
   "id": "80e377d6",
   "metadata": {},
   "source": [
    "## 📊 Components of Time Series\n",
    "- **Trend**: Long-term increase or decrease.\n",
    "- **Seasonality**: Repeating pattern at fixed intervals.\n",
    "- **Cyclic**: Repeating patterns but not fixed like seasons.\n",
    "- **Noise**: Random variation or spikes.\n",
    "- **Stationarity**: When mean and variance stay constant over time."
   ]
  },
  {
   "cell_type": "markdown",
   "id": "28162bdb",
   "metadata": {},
   "source": [
    "## 📈 What is Autocorrelation?\n",
    "Correlation of a time series with its own previous values (lags)."
   ]
  },
  {
   "cell_type": "markdown",
   "id": "5976528d",
   "metadata": {},
   "source": [
    "## 🔍 What are ACF and PACF?\n",
    "- **ACF**: Shows how values are correlated with past values.\n",
    "- **PACF**: Removes indirect correlations and shows direct influence."
   ]
  },
  {
   "cell_type": "markdown",
   "id": "41f34ca0",
   "metadata": {},
   "source": [
    "## 🎯 Why Forecasting?\n",
    "Used in finance, weather, sales, etc. to predict future values based on past patterns."
   ]
  },
  {
   "cell_type": "code",
   "execution_count": 1,
   "id": "296be9f7",
   "metadata": {},
   "outputs": [
    {
     "name": "stdout",
     "output_type": "stream",
     "text": [
      "YF.download() has changed argument auto_adjust default to True\n"
     ]
    },
    {
     "name": "stderr",
     "output_type": "stream",
     "text": [
      "[*********************100%***********************]  1 of 1 completed\n"
     ]
    },
    {
     "data": {
      "text/html": [
       "<div>\n",
       "<style scoped>\n",
       "    .dataframe tbody tr th:only-of-type {\n",
       "        vertical-align: middle;\n",
       "    }\n",
       "\n",
       "    .dataframe tbody tr th {\n",
       "        vertical-align: top;\n",
       "    }\n",
       "\n",
       "    .dataframe thead tr th {\n",
       "        text-align: left;\n",
       "    }\n",
       "</style>\n",
       "<table border=\"1\" class=\"dataframe\">\n",
       "  <thead>\n",
       "    <tr>\n",
       "      <th>Price</th>\n",
       "      <th>Date</th>\n",
       "      <th>Close</th>\n",
       "      <th>High</th>\n",
       "      <th>Low</th>\n",
       "      <th>Open</th>\n",
       "      <th>Volume</th>\n",
       "    </tr>\n",
       "    <tr>\n",
       "      <th>Ticker</th>\n",
       "      <th></th>\n",
       "      <th>AAPL</th>\n",
       "      <th>AAPL</th>\n",
       "      <th>AAPL</th>\n",
       "      <th>AAPL</th>\n",
       "      <th>AAPL</th>\n",
       "    </tr>\n",
       "  </thead>\n",
       "  <tbody>\n",
       "    <tr>\n",
       "      <th>0</th>\n",
       "      <td>2015-01-02</td>\n",
       "      <td>24.288580</td>\n",
       "      <td>24.757334</td>\n",
       "      <td>23.848706</td>\n",
       "      <td>24.746226</td>\n",
       "      <td>212818400</td>\n",
       "    </tr>\n",
       "    <tr>\n",
       "      <th>1</th>\n",
       "      <td>2015-01-05</td>\n",
       "      <td>23.604336</td>\n",
       "      <td>24.137516</td>\n",
       "      <td>23.417723</td>\n",
       "      <td>24.057539</td>\n",
       "      <td>257142000</td>\n",
       "    </tr>\n",
       "    <tr>\n",
       "      <th>2</th>\n",
       "      <td>2015-01-06</td>\n",
       "      <td>23.606550</td>\n",
       "      <td>23.866475</td>\n",
       "      <td>23.244431</td>\n",
       "      <td>23.668754</td>\n",
       "      <td>263188400</td>\n",
       "    </tr>\n",
       "    <tr>\n",
       "      <th>3</th>\n",
       "      <td>2015-01-07</td>\n",
       "      <td>23.937572</td>\n",
       "      <td>24.037543</td>\n",
       "      <td>23.704305</td>\n",
       "      <td>23.815385</td>\n",
       "      <td>160423600</td>\n",
       "    </tr>\n",
       "    <tr>\n",
       "      <th>4</th>\n",
       "      <td>2015-01-08</td>\n",
       "      <td>24.857307</td>\n",
       "      <td>24.915069</td>\n",
       "      <td>24.148621</td>\n",
       "      <td>24.266367</td>\n",
       "      <td>237458000</td>\n",
       "    </tr>\n",
       "  </tbody>\n",
       "</table>\n",
       "</div>"
      ],
      "text/plain": [
       "Price        Date      Close       High        Low       Open     Volume\n",
       "Ticker                  AAPL       AAPL       AAPL       AAPL       AAPL\n",
       "0      2015-01-02  24.288580  24.757334  23.848706  24.746226  212818400\n",
       "1      2015-01-05  23.604336  24.137516  23.417723  24.057539  257142000\n",
       "2      2015-01-06  23.606550  23.866475  23.244431  23.668754  263188400\n",
       "3      2015-01-07  23.937572  24.037543  23.704305  23.815385  160423600\n",
       "4      2015-01-08  24.857307  24.915069  24.148621  24.266367  237458000"
      ]
     },
     "execution_count": 1,
     "metadata": {},
     "output_type": "execute_result"
    }
   ],
   "source": [
    "import yfinance as yf\n",
    "import pandas as pd\n",
    "\n",
    "# Download 10 years of AAPL data from Yahoo Finance\n",
    "data = yf.download(\"AAPL\", start=\"2015-01-01\", end=\"2024-01-01\")\n",
    "\n",
    "#  Reset index so 'Date' becomes a normal column\n",
    "data.reset_index(inplace=True)\n",
    "\n",
    "#  Save to your clean data folder\n",
    "data.to_csv(\"../data/raw/AAPL_stock.csv\", index=False)\n",
    "\n",
    "#  Show first few rows\n",
    "data.head()\n"
   ]
  },
  {
   "cell_type": "markdown",
   "id": "57f7211e",
   "metadata": {},
   "source": [
    "## ✅ Summary\n",
    "- Collected Apple (AAPL) stock data from 2015–2024.\n",
    "- Data includes Open, High, Low, Close, and Volume columns.\n",
    "- This dataset will be used for forecasting in upcoming weeks."
   ]
  },
  {
   "cell_type": "code",
   "execution_count": null,
   "id": "880ca3e1",
   "metadata": {},
   "outputs": [],
   "source": []
  }
 ],
 "metadata": {
  "kernelspec": {
   "display_name": "Python 3 (ipykernel)",
   "language": "python",
   "name": "python3"
  },
  "language_info": {
   "codemirror_mode": {
    "name": "ipython",
    "version": 3
   },
   "file_extension": ".py",
   "mimetype": "text/x-python",
   "name": "python",
   "nbconvert_exporter": "python",
   "pygments_lexer": "ipython3",
   "version": "3.11.9"
  }
 },
 "nbformat": 4,
 "nbformat_minor": 5
}
