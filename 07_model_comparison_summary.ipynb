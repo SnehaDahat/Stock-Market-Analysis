{
 "cells": [
  {
   "cell_type": "markdown",
   "id": "c3025296",
   "metadata": {},
   "source": [
    "# 📊 Week 6: Model Comparison & Final Summary"
   ]
  },
  {
   "cell_type": "markdown",
   "id": "d3d60996",
   "metadata": {},
   "source": [
    "## 1️⃣ Introduction"
   ]
  },
  {
   "cell_type": "markdown",
   "id": "639c06ce",
   "metadata": {},
   "source": [
    "In this notebook, we summarize and compare the performance of various forecasting models used to predict AAPL stock prices.\n",
    "\n",
    "### Models evaluated:\n",
    "- ARIMA\n",
    "- Prophet\n",
    "- LSTM (Deep Learning)\n",
    "- SARIMA\n",
    "\n",
    "Each model has been trained, tested, and evaluated using RMSE (Root Mean Squared Error)."
   ]
  },
  {
   "cell_type": "markdown",
   "id": "adda5d90",
   "metadata": {},
   "source": [
    "## 2️⃣ RMSE Comparison Table"
   ]
  },
  {
   "cell_type": "code",
   "execution_count": 1,
   "id": "346e2351",
   "metadata": {},
   "outputs": [
    {
     "data": {
      "text/html": [
       "<div>\n",
       "<style scoped>\n",
       "    .dataframe tbody tr th:only-of-type {\n",
       "        vertical-align: middle;\n",
       "    }\n",
       "\n",
       "    .dataframe tbody tr th {\n",
       "        vertical-align: top;\n",
       "    }\n",
       "\n",
       "    .dataframe thead th {\n",
       "        text-align: right;\n",
       "    }\n",
       "</style>\n",
       "<table border=\"1\" class=\"dataframe\">\n",
       "  <thead>\n",
       "    <tr style=\"text-align: right;\">\n",
       "      <th></th>\n",
       "      <th>Model</th>\n",
       "      <th>RMSE</th>\n",
       "      <th>Notes</th>\n",
       "    </tr>\n",
       "  </thead>\n",
       "  <tbody>\n",
       "    <tr>\n",
       "      <th>0</th>\n",
       "      <td>ARIMA</td>\n",
       "      <td>1.06</td>\n",
       "      <td>Based on differenced data (price change)</td>\n",
       "    </tr>\n",
       "    <tr>\n",
       "      <th>1</th>\n",
       "      <td>Prophet</td>\n",
       "      <td>16.02</td>\n",
       "      <td>Forecasted actual closing price</td>\n",
       "    </tr>\n",
       "    <tr>\n",
       "      <th>2</th>\n",
       "      <td>LSTM</td>\n",
       "      <td>6.59</td>\n",
       "      <td>Predicted actual price using past 60 days</td>\n",
       "    </tr>\n",
       "    <tr>\n",
       "      <th>3</th>\n",
       "      <td>SARIMA</td>\n",
       "      <td>30.20</td>\n",
       "      <td>Added seasonality with SARIMA model</td>\n",
       "    </tr>\n",
       "  </tbody>\n",
       "</table>\n",
       "</div>"
      ],
      "text/plain": [
       "     Model   RMSE                                      Notes\n",
       "0    ARIMA   1.06   Based on differenced data (price change)\n",
       "1  Prophet  16.02            Forecasted actual closing price\n",
       "2     LSTM   6.59  Predicted actual price using past 60 days\n",
       "3   SARIMA  30.20        Added seasonality with SARIMA model"
      ]
     },
     "execution_count": 1,
     "metadata": {},
     "output_type": "execute_result"
    }
   ],
   "source": [
    "import pandas as pd\n",
    "\n",
    "# Create RMSE summary\n",
    "rmse_data = {\n",
    "    'Model': ['ARIMA', 'Prophet', 'LSTM', 'SARIMA'],\n",
    "    'RMSE': [1.06, 16.02, 6.59, 30.2],\n",
    "    'Notes': [\n",
    "        'Based on differenced data (price change)',\n",
    "        'Forecasted actual closing price',\n",
    "        'Predicted actual price using past 60 days',\n",
    "        'Added seasonality with SARIMA model'\n",
    "    ]\n",
    "}\n",
    "\n",
    "rmse_df = pd.DataFrame(rmse_data)\n",
    "rmse_df"
   ]
  },
  {
   "cell_type": "markdown",
   "id": "efb1b916",
   "metadata": {},
   "source": [
    "## 3️⃣ Observations"
   ]
  },
  {
   "cell_type": "markdown",
   "id": "ce121b61",
   "metadata": {},
   "source": [
    "- **ARIMA** gave the lowest RMSE, but only predicted differenced (delta) prices.\n",
    "- **LSTM** performed very well on actual prices, with an RMSE of ~6.59.\n",
    "- **Prophet** was easier to use and modeled trend/seasonality automatically, but had higher RMSE (~16).\n",
    "- **SARIMA** performed the worst here, possibly due to overfitting or seasonal noise in the data.\n",
    "\n",
    "Each model had its strengths, depending on the business use-case and interpretability required."
   ]
  },
  {
   "cell_type": "markdown",
   "id": "9554eef1",
   "metadata": {},
   "source": [
    "## 4️⃣ Recommendation"
   ]
  },
  {
   "cell_type": "markdown",
   "id": "4ff810b7",
   "metadata": {},
   "source": [
    "Based on performance and interpretability:\n",
    "\n",
    "- For **accuracy on raw prices** → Use **LSTM**\n",
    "- For **simplicity and trend/seasonality** → Use **Prophet**\n",
    "- For **quick differencing analysis** → Use **ARIMA**\n",
    "- SARIMA may be useful with more refined seasonal tuning or longer-term patterns\n",
    "\n",
    "For real-world stock forecasting, combining models (hybrid approaches) or using ensemble methods can help improve robustness."
   ]
  },
  {
   "cell_type": "markdown",
   "id": "638fc099",
   "metadata": {},
   "source": [
    "## 5️⃣ Conclusion"
   ]
  },
  {
   "cell_type": "markdown",
   "id": "14a59d6d",
   "metadata": {},
   "source": [
    "This project explored various classical and deep learning models for stock forecasting.\n",
    "\n",
    "### Key Learnings:\n",
    "- Preprocessing is critical (scaling, stationarity) helps in then giving model the proper dataset it reuquires.\n",
    "- No model is perfect. Each one is equipped with its advantages and disadvantages.\n",
    "- LSTM performed best in this case on actual stock prices\n",
    "\n",
    "The entire pipeline from data collection → preprocessing → forecasting → evaluation was successfully implemented "
   ]
  }
 ],
 "metadata": {
  "kernelspec": {
   "display_name": "Python 3 (ipykernel)",
   "language": "python",
   "name": "python3"
  },
  "language_info": {
   "codemirror_mode": {
    "name": "ipython",
    "version": 3
   },
   "file_extension": ".py",
   "mimetype": "text/x-python",
   "name": "python",
   "nbconvert_exporter": "python",
   "pygments_lexer": "ipython3",
   "version": "3.11.9"
  }
 },
 "nbformat": 4,
 "nbformat_minor": 5
}
